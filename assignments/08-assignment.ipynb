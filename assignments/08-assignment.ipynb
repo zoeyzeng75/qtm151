{
 "cells": [
  {
   "cell_type": "markdown",
   "metadata": {},
   "source": [
    "# Assignment 08"
   ]
  },
  {
   "cell_type": "markdown",
   "metadata": {},
   "source": [
    "## Try to submit the assignment as an html file"
   ]
  },
  {
   "cell_type": "markdown",
   "metadata": {},
   "source": [
    "### Print your Emory code below"
   ]
  },
  {
   "cell_type": "code",
   "execution_count": null,
   "metadata": {},
   "outputs": [],
   "source": [
    "# Write your answer here"
   ]
  },
  {
   "cell_type": "markdown",
   "metadata": {},
   "source": [
    "### Import the pandas, numpy, and matplotlib.pyplot libraries"
   ]
  },
  {
   "cell_type": "code",
   "execution_count": 1,
   "metadata": {},
   "outputs": [],
   "source": [
    "# Write your answer here"
   ]
  },
  {
   "cell_type": "markdown",
   "metadata": {},
   "source": [
    "### This script creates a DataFrame with driver data for questions (a)-(d). Please execute the code and check the DataFrame."
   ]
  },
  {
   "cell_type": "code",
   "execution_count": null,
   "metadata": {},
   "outputs": [],
   "source": [
    "# Create the homework_data DataFrame\n",
    "homework_data = pd.DataFrame({\n",
    "    'driver_id': [1, 2, 3, 4, 5, 6, 7, 8, 9, 10],\n",
    "    'driver_name': [\n",
    "        'Simon Cowell', 'Fernando Alonso', 'Heinrich Bach',\n",
    "        'Giorgio Soprano', 'Lewis Hamilton', 'Henry Louvre',\n",
    "        'Sebastian Vettel', 'Lukas Zech', 'Donic Kovak',\n",
    "        'Michael Holzmieter'\n",
    "    ],\n",
    "    'nationality': [\n",
    "        'British', 'Spanish', 'German', 'Spanish', 'British',\n",
    "        'British', 'German', 'German', 'German', 'German'\n",
    "    ],\n",
    "    'lap_times': [74, 26, 82, 87, 103, 32, 91, 53, 11, 24]\n",
    "})\n",
    "\n",
    "# Display the DataFrame to verify entries\n",
    "print(homework_data)\n"
   ]
  },
  {
   "cell_type": "markdown",
   "metadata": {},
   "source": [
    "<font size = \"5\">\n",
    "\n",
    "(a) Subset and Sort\n",
    "\n",
    "<font size = \"3\">\n",
    "\n",
    "- Use pandas to filter drivers whose nationality is British using `query`.\n",
    "- Sort the resulting DataFrame in ascending order by `driver_name` using `sort_values`.\n"
   ]
  },
  {
   "cell_type": "code",
   "execution_count": null,
   "metadata": {},
   "outputs": [],
   "source": [
    "# Write your answer here"
   ]
  },
  {
   "cell_type": "markdown",
   "metadata": {},
   "source": [
    "<font size = \"5\">\n",
    "\n",
    "(b) Count Unique Values\n",
    "\n",
    "<font size = \"3\">\n",
    "\n",
    "- Count the number of unique nationalities in the dataset using `nunique`.\n",
    "- Count the total number of rows in the dataset using `shape`.\n",
    "- Assign clear variable names to these counts.\n"
   ]
  },
  {
   "cell_type": "code",
   "execution_count": null,
   "metadata": {},
   "outputs": [],
   "source": [
    "# Write your answer here"
   ]
  },
  {
   "cell_type": "markdown",
   "metadata": {},
   "source": [
    "<font size = \"5\">\n",
    "\n",
    "(c) Groupby and Aggregate\n",
    "\n",
    "<font size = \"3\">\n",
    "\n",
    "- Calculate the average of `lap_times` grouped by `driver_id` using `groupby` and `agg`.\n",
    "- Reset the index of the resulting DataFrame.\n",
    "- Sort the results by the average `lap_times`."
   ]
  },
  {
   "cell_type": "code",
   "execution_count": null,
   "metadata": {},
   "outputs": [],
   "source": [
    "# Write your answer here"
   ]
  },
  {
   "cell_type": "markdown",
   "metadata": {},
   "source": [
    "<font size = \"5\">\n",
    "\n",
    "(d) Groupby, Aggregate, and Filter\n",
    "\n",
    "<font size = \"3\">\n",
    "\n",
    "- Calculate the sum of `lap_times` grouped by `nationality` using `groupby` and `agg`.\n",
    "- Filter nationalities with a sum of `lap_times` strictly higher than 150 using `query`.\n"
   ]
  },
  {
   "cell_type": "code",
   "execution_count": null,
   "metadata": {},
   "outputs": [],
   "source": [
    "# Write your answer here"
   ]
  },
  {
   "cell_type": "markdown",
   "metadata": {},
   "source": [
    "<font size = \"5\">\n",
    "\n",
    "(e) Plot\n",
    "\n",
    "<font size = \"3\">\n",
    "\n",
    "- Plot the average `lap_times` grouped by `driver_id` using `plot` and `kind='bar'`.\n",
    "- Set the title of the plot to '`Average Lap Times by Driver ID`'.\n",
    "- Set the x-axis label to '`Driver ID`'.\n",
    "- Set the y-axis label to '`Average Lap Time`'."
   ]
  },
  {
   "cell_type": "code",
   "execution_count": null,
   "metadata": {},
   "outputs": [],
   "source": [
    "# Write your answer here"
   ]
  }
 ],
 "metadata": {
  "kernelspec": {
   "display_name": "base",
   "language": "python",
   "name": "python3"
  },
  "language_info": {
   "codemirror_mode": {
    "name": "ipython",
    "version": 3
   },
   "file_extension": ".py",
   "mimetype": "text/x-python",
   "name": "python",
   "nbconvert_exporter": "python",
   "pygments_lexer": "ipython3",
   "version": "3.12.2"
  }
 },
 "nbformat": 4,
 "nbformat_minor": 2
}
