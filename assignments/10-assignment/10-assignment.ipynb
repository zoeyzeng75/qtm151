{
 "cells": [
  {
   "attachments": {},
   "cell_type": "markdown",
   "metadata": {},
   "source": [
    "# Assignment 9"
   ]
  },
  {
   "attachments": {},
   "cell_type": "markdown",
   "metadata": {},
   "source": [
    "## Try to submit as an HTML file"
   ]
  },
  {
   "attachments": {},
   "cell_type": "markdown",
   "metadata": {},
   "source": [
    "<font size = \"5\">\n",
    "Print your Emory ID below"
   ]
  },
  {
   "cell_type": "code",
   "execution_count": null,
   "metadata": {},
   "outputs": [],
   "source": [
    "# Write your answer here:\n"
   ]
  },
  {
   "attachments": {},
   "cell_type": "markdown",
   "metadata": {},
   "source": [
    "<font size = \"5\">\n",
    "\n",
    "Import the `pandas`, `psycopg2`, and `sqlalchemy` libraries\n",
    "\n",
    "From the `sqlalchemy` library, import the `create_engine` and `text` functions"
   ]
  },
  {
   "cell_type": "code",
   "execution_count": null,
   "metadata": {},
   "outputs": [],
   "source": [
    "# Write your answer here:"
   ]
  },
  {
   "attachments": {},
   "cell_type": "markdown",
   "metadata": {},
   "source": [
    "<font size = \"5\">\n",
    "\n",
    "Establish a connection to the SQL server and database `postgres` from Python \n",
    "Use `create_engine()` and name `engine.connect()` as `connection` as in the class example"
   ]
  },
  {
   "cell_type": "code",
   "execution_count": null,
   "metadata": {},
   "outputs": [],
   "source": [
    "# Write your own code"
   ]
  },
  {
   "attachments": {},
   "cell_type": "markdown",
   "metadata": {},
   "source": [
    "<font size = \"5\">\n",
    "\n",
    "In this homework, the queries should be done in Python using the `pandas` library.\n",
    "\n",
    "- For (a)-(e) read the section on \"Escape Characters\" carefully and how to write strings in multiple lines\n",
    "- Ensure for each exercise you are using the specific Python commands (ie, `pd.read_sql`)"
   ]
  },
  {
   "attachments": {},
   "cell_type": "markdown",
   "metadata": {},
   "source": [
    "\n",
    "<font size = \"5\">\n",
    "\n",
    "(a) Upload dataset to SQL\n",
    "\n",
    "\n",
    "- First, read the file `homework10_table.csv` in the `data_raw` folder (use the same name for the dataframe)\n",
    "- Upload the file to your local SQL server using the `to_sql` command"
   ]
  },
  {
   "cell_type": "code",
   "execution_count": null,
   "metadata": {},
   "outputs": [],
   "source": [
    "# Write your own code"
   ]
  },
  {
   "cell_type": "markdown",
   "metadata": {},
   "source": [
    "\n",
    "<font size = \"5\">\n",
    "\n",
    "For questions (b)-(e) we will be working with the table ` homework9_table ` in the SQL server \n",
    "\n",
    "You are required to use the `read_sql` command for all the following questions"
   ]
  },
  {
   "cell_type": "markdown",
   "metadata": {},
   "source": [
    "\n",
    "<font size = \"5\">\n",
    "\n",
    "(b) Subset and sort\n",
    "\n",
    "\n",
    "- Use `WHERE` to get a subset of `homework10_table` to subset drivers whose nationality is British\n",
    "- Chain this with ```ORDER BY driver_name ASC``` to sort in ascending order\n",
    "\n",
    "Hints:\n",
    "- Remember to define strings over multiple lines\n",
    "- We can include single quotations in the `WHERE` command without any additional escape characters\n",
    "- Or you can just use triple quotes for the entire string"
   ]
  },
  {
   "cell_type": "code",
   "execution_count": null,
   "metadata": {},
   "outputs": [],
   "source": [
    "# Write your own code"
   ]
  },
  {
   "attachments": {},
   "cell_type": "markdown",
   "metadata": {},
   "source": [
    "<font size = \"5\">\n",
    "\n",
    "(c) Groupby + Aggregate + Sort\n",
    "\n",
    "- Obtain the average of `lap_times` by `driverId` using `GROUP BY`\n",
    "- Use `ORDER BY` to sort by the average of `lap_times`\n",
    "- Make sure to seperate pieces of your logic over seperate lines\n"
   ]
  },
  {
   "cell_type": "code",
   "execution_count": null,
   "metadata": {},
   "outputs": [],
   "source": [
    "# Write your own code"
   ]
  },
  {
   "attachments": {},
   "cell_type": "markdown",
   "metadata": {},
   "source": [
    "<font size = \"5\">\n",
    "\n",
    "(d) Groupby + Aggregate + Sort\n",
    "\n",
    "- Obtain the sum of `lap_times` by nationality using `GROUP BY`\n",
    "- Use `HAVING` to filter nationalities with a sum of lap times strictly higher than 150\n",
    "- Make sure to seperate pieces of your logic over seperate lines\n",
    "\n",
    "\n",
    "\n",
    "HINT: See the end of lecture 16 for details <br>\n",
    "HINT: Use `HAVING SUM(lap_times)` rather than an alias for the code to work correctly"
   ]
  },
  {
   "cell_type": "code",
   "execution_count": null,
   "metadata": {},
   "outputs": [],
   "source": [
    "# Write your own code"
   ]
  },
  {
   "attachments": {},
   "cell_type": "markdown",
   "metadata": {},
   "source": [
    "<font size = \"5\">\n",
    "\n",
    "(e) Groupby and multiple aggregations\n",
    "\n",
    "- In this exercise, we will obtain multiple statistics about each nationality and their lap times.\n",
    "- Obtain the sum, min, max, and range of each nationality's lap times using `GROUP BY`\n",
    "- Make sure to separate pieces of your code\n",
    "\n",
    "HINT: There is no built in range function in SQL, however you can use the <br>\n",
    "`MAX` and `MIN` functions to build your own function, like this:\n",
    "\n",
    "` MAX(lap_times)-MIN(lap_times) AS range_laptimes`"
   ]
  },
  {
   "cell_type": "code",
   "execution_count": null,
   "metadata": {},
   "outputs": [],
   "source": [
    "# Write your own code"
   ]
  }
 ],
 "metadata": {
  "kernelspec": {
   "display_name": "base",
   "language": "python",
   "name": "python3"
  },
  "language_info": {
   "codemirror_mode": {
    "name": "ipython",
    "version": 3
   },
   "file_extension": ".py",
   "mimetype": "text/x-python",
   "name": "python",
   "nbconvert_exporter": "python",
   "pygments_lexer": "ipython3",
   "version": "3.12.2"
  },
  "orig_nbformat": 4,
  "vscode": {
   "interpreter": {
    "hash": "45fc1f684f6f416f40889115beff3ddf69879b64cf4bfee48cb72a61e9d15d1a"
   }
  }
 },
 "nbformat": 4,
 "nbformat_minor": 2
}
